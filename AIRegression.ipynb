{
  "nbformat": 4,
  "nbformat_minor": 0,
  "metadata": {
    "colab": {
      "provenance": [],
      "authorship_tag": "ABX9TyPMmqt6ZutRX32wP/FpmSJl",
      "include_colab_link": true
    },
    "kernelspec": {
      "name": "python3",
      "display_name": "Python 3"
    },
    "language_info": {
      "name": "python"
    }
  },
  "cells": [
    {
      "cell_type": "markdown",
      "metadata": {
        "id": "view-in-github",
        "colab_type": "text"
      },
      "source": [
        "<a href=\"https://colab.research.google.com/github/Benji-Young/Regressions/blob/main/AIRegression.ipynb\" target=\"_parent\"><img src=\"https://colab.research.google.com/assets/colab-badge.svg\" alt=\"Open In Colab\"/></a>"
      ]
    },
    {
      "cell_type": "code",
      "execution_count": 80,
      "metadata": {
        "colab": {
          "base_uri": "https://localhost:8080/"
        },
        "id": "yElbKXHjKrTg",
        "outputId": "75b7f324-192d-47a1-cdf9-15b850e9b345"
      },
      "outputs": [
        {
          "output_type": "stream",
          "name": "stdout",
          "text": [
            "[ 0.  1.  2.  3.  4.  5.  6.  7.  8.  9. 10. 11. 12. 13. 14. 15. 16. 17.\n",
            " 18. 19. 20. 21. 22. 23. 24. 25. 26. 27. 28. 29. 30. 31. 32. 33. 34. 35.\n",
            " 36. 37. 38. 39. 40. 41. 42. 43. 44. 45. 46. 47. 48. 49. 50. 51. 52. 53.\n",
            " 54. 55. 56. 57. 58. 59. 60. 61. 62. 63. 64. 65. 66. 67. 68. 69. 70. 71.\n",
            " 72. 73. 74. 75. 76. 77. 78. 79. 80. 81. 82. 83. 84. 85. 86. 87. 88. 89.\n",
            " 90. 91. 92. 93. 94. 95. 96. 97. 98. 99.]\n",
            "[ 140.238743     44.37227082  119.35445319  193.08145641  101.01365863\n",
            "  104.46225859   43.71669817  163.63992032  152.37191599   15.52748828\n",
            "   47.32511731  -57.78318257  149.3169214   -19.69176851   56.70135757\n",
            "  -60.34250556  -54.24243012  129.7525083   103.15150438  105.44918222\n",
            "  182.01113485  107.25897617   60.62037201  165.05234534   88.16868319\n",
            "   -4.56713194  111.52837212  -31.03347102    9.54060991  126.0607816\n",
            "   20.92539156  107.72869981  138.42734687  -70.12832178   44.74993347\n",
            "  -75.56377539   26.96400813    7.33840546  125.0691167    -6.06583679\n",
            "   -1.74423667  -69.97485893  -23.17467583  -74.75398914  -60.33833116\n",
            "   56.25796821   18.81010994   28.89584413  -74.58410344   39.17888394\n",
            "   82.95744213  -25.14816912  -10.23452244 -138.7240174  -125.46773802\n",
            "   45.5081223  -219.35828328 -104.06530168   36.22572332 -149.46374002\n",
            "   34.39555822   13.01646284    1.85485171   -1.86214635  -82.91148363\n",
            "   46.27324455  -70.36690376  -44.48834169  -31.37988769   -5.58809696\n",
            "   30.53999523   26.04901235  -37.03584667  -94.06910776  -41.10017991\n",
            "  -98.39496426   61.00952678    7.46668935  -84.04779726  -88.4483343\n",
            "   18.78047006   39.74024074 -118.30792774 -110.98949237  -25.10163125\n",
            "  -18.78629786 -133.03368832  -39.26000324  -80.82946548  -33.13596041\n",
            "   48.28472987  -62.42585616 -116.73818733 -110.68126697 -189.44514997\n",
            "  -54.76023802   -0.82909011  -41.80593058 -135.54715194 -130.63663837]\n"
          ]
        }
      ],
      "source": [
        "import numpy as np\n",
        "\n",
        "# Generate 100 x values from 0 to 99\n",
        "x_values = np.arange(100).astype(np.float64)\n",
        "\n",
        "# Generate 100 y values that are somewhat linearly correlated with x values\n",
        "y_values = 100 - 2 * x_values\n",
        "# Add some noise to the y values\n",
        "noise = np.random.normal(0, 70, 100)  # mean=0, std=70\n",
        "y_values += noise\n",
        "\n",
        "print(x_values)\n",
        "print(y_values)"
      ]
    },
    {
      "cell_type": "code",
      "source": [
        "from sklearn.linear_model import LinearRegression\n",
        "\n",
        "# Create a Linear Regression model\n",
        "model = LinearRegression()\n",
        "\n",
        "# Fit the model to the data\n",
        "model.fit(x_values.reshape(-1, 1), y_values)\n",
        "\n",
        "# Predict y values for the x values\n",
        "predicted_y_values = model.predict(x_values.reshape(-1, 1))"
      ],
      "metadata": {
        "id": "adUmMBsQNL0e"
      },
      "execution_count": 81,
      "outputs": []
    },
    {
      "cell_type": "code",
      "source": [
        "import matplotlib.pyplot as plt\n",
        "%matplotlib inline"
      ],
      "metadata": {
        "id": "edm8IfoML8lO"
      },
      "execution_count": 82,
      "outputs": []
    },
    {
      "cell_type": "code",
      "source": [
        "from sklearn.metrics import mean_squared_error, r2_score\n",
        "\n",
        "# Calculate the mean squared error\n",
        "mse = mean_squared_error(y_values, predicted_y_values)\n",
        "\n",
        "# Calculate the R-squared value\n",
        "r2 = r2_score(y_values, predicted_y_values)\n",
        "\n",
        "# Print the accuracy, coefficients, and error\n",
        "print(f'Accuracy: {r2}')\n",
        "print(f'Coefficients: {model.coef_}')\n",
        "print(f'Error: {mse}')"
      ],
      "metadata": {
        "colab": {
          "base_uri": "https://localhost:8080/"
        },
        "id": "maWb9jcSPxnw",
        "outputId": "7d901c40-7005-493a-98f5-8fa8f51e2101"
      },
      "execution_count": 83,
      "outputs": [
        {
          "output_type": "stream",
          "name": "stdout",
          "text": [
            "Accuracy: 0.3819659854403614\n",
            "Coefficients: [-1.88349894]\n",
            "Error: 4782.927205841369\n"
          ]
        }
      ]
    },
    {
      "cell_type": "code",
      "source": [
        "from sklearn.linear_model import Ridge\n",
        "\n",
        "# Create a Ridge regression model\n",
        "ridge_model = Ridge(alpha=1000.0)\n",
        "\n",
        "# Fit the model to the data\n",
        "ridge_model.fit(x_values.reshape(-1, 1), y_values)\n",
        "\n",
        "# Predict y values for the x values\n",
        "ridge_predicted_y_values = ridge_model.predict(x_values.reshape(-1, 1))\n",
        "\n",
        "# Calculate the mean squared error\n",
        "ridge_mse = mean_squared_error(y_values, ridge_predicted_y_values)\n",
        "\n",
        "# Calculate the R-squared value\n",
        "ridge_r2 = r2_score(y_values, ridge_predicted_y_values)\n",
        "\n",
        "# Print the accuracy, coefficients, and error\n",
        "print(f'Ridge Accuracy: {ridge_r2}')\n",
        "print(f'Ridge Coefficients: {ridge_model.coef_}')\n",
        "print(f'Ridge Error: {ridge_mse}')"
      ],
      "metadata": {
        "colab": {
          "base_uri": "https://localhost:8080/"
        },
        "id": "dQgVQaDuTkin",
        "outputId": "165b54a0-f45c-452c-8b47-371991344492"
      },
      "execution_count": 84,
      "outputs": [
        {
          "output_type": "stream",
          "name": "stdout",
          "text": [
            "Ridge Accuracy: 0.3819122684106342\n",
            "Ridge Coefficients: [-1.86116276]\n",
            "Ridge Error: 4783.342918628767\n"
          ]
        }
      ]
    },
    {
      "cell_type": "code",
      "source": [
        "# Create a scatter plot\n",
        "plt.scatter(x_values, y_values)\n",
        "\n",
        "# Plot the line\n",
        "plt.plot(x_values, predicted_y_values, color='red', label='Linear Regression')\n",
        "plt.plot(x_values, ridge_predicted_y_values, color='blue', label='Ridge Regression')\n",
        "\n",
        "# Set the x and y labels\n",
        "plt.xlabel('X Values')\n",
        "plt.ylabel('Y Values')\n",
        "\n",
        "# Add a legend\n",
        "plt.legend()\n",
        "\n",
        "# Show the plot\n",
        "plt.show()"
      ],
      "metadata": {
        "colab": {
          "base_uri": "https://localhost:8080/",
          "height": 449
        },
        "id": "TQ_nUjN_ToOK",
        "outputId": "4b476100-0c14-4c6c-ef15-08b476caa766"
      },
      "execution_count": 85,
      "outputs": [
        {
          "output_type": "display_data",
          "data": {
            "text/plain": [
              "<Figure size 640x480 with 1 Axes>"
            ],
            "image/png": "[encoded data removed]"
          },
          "metadata": {}
        }
      ]
    }
  ]
}